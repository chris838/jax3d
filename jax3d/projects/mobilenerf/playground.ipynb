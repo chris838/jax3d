{
 "cells": [
  {
   "cell_type": "code",
   "execution_count": 1,
   "id": "287ab1f5",
   "metadata": {},
   "outputs": [],
   "source": [
    "%load_ext autoreload\n",
    "\n",
    "%autoreload 2\n",
    "\n",
    "import data_loaders"
   ]
  },
  {
   "cell_type": "code",
   "execution_count": null,
   "id": "e0f0af4d",
   "metadata": {},
   "outputs": [],
   "source": []
  },
  {
   "cell_type": "code",
   "execution_count": 16,
   "id": "25d93ddd",
   "metadata": {},
   "outputs": [
    {
     "name": "stdout",
     "output_type": "stream",
     "text": [
      "(35, 756, 1008, 3)\n",
      "(35, 3, 4)\n",
      "(3,)\n",
      "(35, 3, 5)\n"
     ]
    }
   ],
   "source": [
    "import numpy as np\n",
    "\n",
    "data_dir = \"/Users/chris/data/nerf_llff_data/room\"\n",
    "data = data_loaders.load_LLFF(data_dir, 'forwardfacing', 'train')\n",
    "\n",
    "print( np.shape(data['images']) )\n",
    "print( np.shape(data['c2w']) )\n",
    "print( np.shape(data['hwf']) )\n",
    "print( np.shape(data['poses']) )\n"
   ]
  },
  {
   "cell_type": "code",
   "execution_count": 3,
   "id": "362c8add",
   "metadata": {},
   "outputs": [
    {
     "name": "stdout",
     "output_type": "stream",
     "text": [
      "(43, 738, 994, 3)\n",
      "(43, 3, 4)\n",
      "(3,)\n",
      "(43, 4, 4)\n"
     ]
    }
   ],
   "source": [
    "data_dir = \"/Users/chris/data/living-room-ii\"\n",
    "data = data_loaders.load_nerfstudio(data_dir, 'train')\n",
    "\n",
    "print( np.shape(data['images']) )\n",
    "print( np.shape(data['c2w']) )\n",
    "print( np.shape(data['hwf']) )\n",
    "print( np.shape(data['poses']) )\n",
    "\n",
    "poses = data['poses']\n",
    "c2w = data['c2w']"
   ]
  },
  {
   "cell_type": "code",
   "execution_count": null,
   "id": "e6f204aa",
   "metadata": {},
   "outputs": [],
   "source": []
  },
  {
   "cell_type": "code",
   "execution_count": null,
   "id": "550fa501",
   "metadata": {},
   "outputs": [],
   "source": []
  },
  {
   "cell_type": "code",
   "execution_count": null,
   "id": "e0d40ced",
   "metadata": {},
   "outputs": [],
   "source": []
  }
 ],
 "metadata": {
  "kernelspec": {
   "display_name": "Python (mobilenerf)",
   "language": "python",
   "name": "mobilenerf"
  },
  "language_info": {
   "codemirror_mode": {
    "name": "ipython",
    "version": 3
   },
   "file_extension": ".py",
   "mimetype": "text/x-python",
   "name": "python",
   "nbconvert_exporter": "python",
   "pygments_lexer": "ipython3",
   "version": "3.8.10"
  }
 },
 "nbformat": 4,
 "nbformat_minor": 5
}
